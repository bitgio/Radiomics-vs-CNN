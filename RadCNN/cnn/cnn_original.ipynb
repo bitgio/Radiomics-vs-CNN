{
 "cells": [
  {
   "cell_type": "code",
   "execution_count": 1,
   "id": "d154544c",
   "metadata": {},
   "outputs": [],
   "source": [
    "import os\n",
    "import numpy as np\n",
    "import threading as thr\n",
    "import matplotlib.pyplot as plt\n",
    "from sklearn.model_selection import train_test_split\n",
    "from sklearn.metrics import roc_curve, auc\n",
    "from keras.models import Sequential\n",
    "from keras.layers import Conv2D, BatchNormalization, MaxPool2D, Dense, Flatten, InputLayer, Activation, Dropout\n",
    "from keras.callbacks import ReduceLROnPlateau\n",
    "from keras.optimizers import SGD"
   ]
  },
  {
   "cell_type": "code",
   "execution_count": 2,
   "id": "b3c698af",
   "metadata": {},
   "outputs": [],
   "source": [
    "import matlab.engine\n",
    "eng = matlab.engine.start_matlab()"
   ]
  },
  {
   "cell_type": "code",
   "execution_count": 3,
   "id": "94af88d2",
   "metadata": {},
   "outputs": [],
   "source": [
    "mammo_o, mammo_f, label = [], [], []\n",
    "data_folder = \"../dataset/\"\n",
    "os.chdir(data_folder)\n",
    "l = os.listdir()"
   ]
  },
  {
   "cell_type": "code",
   "execution_count": 4,
   "id": "aaff3d07",
   "metadata": {},
   "outputs": [],
   "source": [
    "def create_dataset(lista, o_img, f_img, labels):\n",
    "    #Function calling the Matlab file in order to filter the images.\n",
    "    for element in lista:\n",
    "        if \"_1_resized.pgm\" in element:\n",
    "            mo, mf = eng.dataset_filtered(eng.char(os.path.join(data_folder, element)), nargout = 2)\n",
    "            o_img.append(mo)\n",
    "            f_img.append(mf)\n",
    "            labels.append(1)\n",
    "        elif \"_2_resized.pgm\" in element:\n",
    "            mo, mf = eng.dataset_filtered(eng.char(os.path.join(data_folder, element)), nargout = 2)\n",
    "            o_img.append(mo)\n",
    "            f_img.append(mf)\n",
    "            labels.append(0)"
   ]
  },
  {
   "cell_type": "code",
   "execution_count": 5,
   "id": "d74f8dee",
   "metadata": {},
   "outputs": [],
   "source": [
    "os.chdir(\"./\")\n",
    "threads = []\n",
    "chunk = 6\n",
    "\n",
    "for i in range(49):\n",
    "    t = thr.Thread(target = create_dataset, args = (l[i*chunk : (i+1)*chunk], mammo_o, mammo_f, label))\n",
    "    threads.append(t)\n",
    "    t.start()\n",
    "    \n",
    "for j in threads:\n",
    "    j.join()"
   ]
  },
  {
   "cell_type": "code",
   "execution_count": 6,
   "id": "5aa2e2e4",
   "metadata": {},
   "outputs": [
    {
     "name": "stdout",
     "output_type": "stream",
     "text": [
      "(147, 125, 125, 1)\n",
      "(147, 64, 64, 1)\n"
     ]
    }
   ],
   "source": [
    "mammo_o = np.asarray(mammo_o, dtype = 'float32')/255.\n",
    "mammo_f = np.asarray(mammo_f, dtype = 'float32')/255.\n",
    "label = np.asarray(label)\n",
    "mammo_o_4d = np.reshape(mammo_o, (147, 125, 125, 1))\n",
    "print(mammo_o_4d.shape)\n",
    "mammo_f_4d = np.reshape(mammo_f, (147, 64, 64, 1))\n",
    "print(mammo_f_4d.shape)"
   ]
  },
  {
   "cell_type": "code",
   "execution_count": 7,
   "id": "8368083f",
   "metadata": {},
   "outputs": [],
   "source": [
    "def cnn_o(shape=(125, 125, 1)):\n",
    "    model = Sequential([\n",
    "        \n",
    "        Conv2D(4, (3,3), padding = 'same', input_shape = shape),\n",
    "        BatchNormalization(),\n",
    "        Activation('relu'),\n",
    "        \n",
    "        MaxPool2D((6,6), strides = 2),\n",
    "        Dropout(0.1),\n",
    "        \n",
    "        \n",
    "        Conv2D(8, (3,3), padding = 'same'),\n",
    "        BatchNormalization(),\n",
    "        Activation('relu'),\n",
    "        \n",
    "        MaxPool2D((6,6), strides = 2),\n",
    "        #Dropout(0.2),\n",
    "        \n",
    "        \n",
    "        Conv2D(10, (3,3), padding = 'same'),\n",
    "        BatchNormalization(),\n",
    "        Activation('relu'),\n",
    "        \n",
    "        MaxPool2D((6,6), strides = 2),\n",
    "        Dropout(0.2),\n",
    "        \n",
    "        Flatten(),\n",
    "        \n",
    "        Dense(10, activation = 'relu'),\n",
    "        #Dropout(0.1),\n",
    "        Dense(1, activation = 'sigmoid')        \n",
    "        \n",
    "    ])\n",
    "    \n",
    "    return model"
   ]
  },
  {
   "cell_type": "code",
   "execution_count": 8,
   "id": "6c7a3589",
   "metadata": {},
   "outputs": [
    {
     "name": "stdout",
     "output_type": "stream",
     "text": [
      "Model: \"sequential\"\n",
      "_________________________________________________________________\n",
      " Layer (type)                Output Shape              Param #   \n",
      "=================================================================\n",
      " conv2d (Conv2D)             (None, 125, 125, 4)       40        \n",
      "                                                                 \n",
      " batch_normalization (BatchN  (None, 125, 125, 4)      16        \n",
      " ormalization)                                                   \n",
      "                                                                 \n",
      " activation (Activation)     (None, 125, 125, 4)       0         \n",
      "                                                                 \n",
      " max_pooling2d (MaxPooling2D  (None, 60, 60, 4)        0         \n",
      " )                                                               \n",
      "                                                                 \n",
      " dropout (Dropout)           (None, 60, 60, 4)         0         \n",
      "                                                                 \n",
      " conv2d_1 (Conv2D)           (None, 60, 60, 8)         296       \n",
      "                                                                 \n",
      " batch_normalization_1 (Batc  (None, 60, 60, 8)        32        \n",
      " hNormalization)                                                 \n",
      "                                                                 \n",
      " activation_1 (Activation)   (None, 60, 60, 8)         0         \n",
      "                                                                 \n",
      " max_pooling2d_1 (MaxPooling  (None, 28, 28, 8)        0         \n",
      " 2D)                                                             \n",
      "                                                                 \n",
      " conv2d_2 (Conv2D)           (None, 28, 28, 10)        730       \n",
      "                                                                 \n",
      " batch_normalization_2 (Batc  (None, 28, 28, 10)       40        \n",
      " hNormalization)                                                 \n",
      "                                                                 \n",
      " activation_2 (Activation)   (None, 28, 28, 10)        0         \n",
      "                                                                 \n",
      " max_pooling2d_2 (MaxPooling  (None, 12, 12, 10)       0         \n",
      " 2D)                                                             \n",
      "                                                                 \n",
      " dropout_1 (Dropout)         (None, 12, 12, 10)        0         \n",
      "                                                                 \n",
      " flatten (Flatten)           (None, 1440)              0         \n",
      "                                                                 \n",
      " dense (Dense)               (None, 10)                14410     \n",
      "                                                                 \n",
      " dense_1 (Dense)             (None, 1)                 11        \n",
      "                                                                 \n",
      "=================================================================\n",
      "Total params: 15,575\n",
      "Trainable params: 15,531\n",
      "Non-trainable params: 44\n",
      "_________________________________________________________________\n"
     ]
    }
   ],
   "source": [
    "model_o = cnn_o()\n",
    "model_o.summary()"
   ]
  },
  {
   "cell_type": "code",
   "execution_count": 9,
   "id": "0fd8199a",
   "metadata": {},
   "outputs": [],
   "source": [
    "learning_rate = 0.001\n",
    "model_o.compile(optimizer = SGD(learning_rate, momentum = 0.9), loss = 'binary_crossentropy', metrics = ['accuracy'])"
   ]
  },
  {
   "cell_type": "code",
   "execution_count": 10,
   "id": "c5e6a305",
   "metadata": {},
   "outputs": [],
   "source": [
    "reduce_on_plateau = ReduceLROnPlateau(\n",
    "    monitor=\"val_loss\",\n",
    "    factor=0.1,\n",
    "    patience=10,\n",
    "    verbose=0,\n",
    "    mode=\"auto\",\n",
    "    min_delta=0.0001,\n",
    "    cooldown=0,\n",
    "    min_lr=0)"
   ]
  },
  {
   "cell_type": "code",
   "execution_count": null,
   "id": "b007b184",
   "metadata": {},
   "outputs": [
    {
     "name": "stdout",
     "output_type": "stream",
     "text": [
      "Epoch 1/260\n"
     ]
    }
   ],
   "source": [
    "X_train_o, X_val_o, Y_train_o, Y_val_o = train_test_split(mammo_o_4d, label, test_size = 0.2, random_state = 44)\n",
    "batch_size = 21\n",
    "train_o = model_o.fit(X_train_o, Y_train_o,\n",
    "                     batch_size = batch_size,\n",
    "                     epochs = 260, \n",
    "                     verbose = 1,\n",
    "                     validation_data = (X_val_o, Y_val_o),\n",
    "                     callbacks = [reduce_on_plateau])    "
   ]
  },
  {
   "cell_type": "code",
   "execution_count": null,
   "id": "38cbb2d9",
   "metadata": {},
   "outputs": [],
   "source": [
    "acc = train_o.history['accuracy']\n",
    "val_acc = train_o.history['val_accuracy']\n",
    "loss = train_o.history['loss']\n",
    "val_loss = train_o.history['val_loss']\n",
    "\n",
    "epochs_range = range(1, len(acc)+1)\n",
    "\n",
    "#Train and validation accuracy \n",
    "plt.figure(figsize=(15, 15))\n",
    "plt.subplot(2, 2, 1)\n",
    "plt.plot(epochs_range, acc, label='Training Accuracy')\n",
    "plt.plot(epochs_range, val_acc, label='Validation Accuracy')\n",
    "plt.legend(loc='lower right')\n",
    "plt.title('Training and Validation Accuracy')\n",
    "\n",
    "#Train and validation loss \n",
    "plt.subplot(2, 2, 2)\n",
    "plt.plot(epochs_range, loss, label='Training Loss')\n",
    "plt.plot(epochs_range, val_loss, label='Validation Loss')\n",
    "plt.legend(loc='upper right')\n",
    "plt.title('Training and Validation Loss')\n",
    "plt.show()"
   ]
  },
  {
   "cell_type": "code",
   "execution_count": null,
   "id": "335a1acb",
   "metadata": {},
   "outputs": [],
   "source": [
    "def cnn_o_aug(shape=(125, 125, 1)):\n",
    "    model = Sequential([\n",
    "        \n",
    "        Conv2D(6, (3,3), padding = 'same', input_shape = shape),\n",
    "        BatchNormalization(),\n",
    "        Activation('relu'),\n",
    "        \n",
    "        MaxPool2D((6,6), strides = 2),\n",
    "        Dropout(0.1),\n",
    "        \n",
    "        \n",
    "        Conv2D(8, (3,3), padding = 'same'),\n",
    "        BatchNormalization(),\n",
    "        Activation('relu'),\n",
    "        \n",
    "        MaxPool2D((6,6), strides = 2),\n",
    "        #Dropout(0.2),\n",
    "        \n",
    "        \n",
    "        Conv2D(10, (3,3), padding = 'same'),\n",
    "        BatchNormalization(),\n",
    "        Activation('relu'),\n",
    "        \n",
    "        MaxPool2D((6,6), strides = 2),\n",
    "        Dropout(0.2),\n",
    "        \n",
    "        Flatten(),\n",
    "        \n",
    "        Dense(10, activation = 'relu'),\n",
    "        #Dropout(0.1),\n",
    "        Dense(1, activation = 'sigmoid')        \n",
    "        \n",
    "    ])\n",
    "    \n",
    "    return model"
   ]
  },
  {
   "cell_type": "code",
   "execution_count": null,
   "id": "e2b8ea9d",
   "metadata": {},
   "outputs": [],
   "source": [
    "model_o_aug = cnn_o_aug()\n",
    "model_o_aug.summary()"
   ]
  },
  {
   "cell_type": "code",
   "execution_count": null,
   "id": "131c053d",
   "metadata": {},
   "outputs": [],
   "source": [
    "learning_rate = 0.001\n",
    "model_o_aug.compile(optimizer = SGD(learning_rate, momentum = 0.9), loss = 'binary_crossentropy', metrics = ['accuracy'])"
   ]
  },
  {
   "cell_type": "code",
   "execution_count": null,
   "id": "8a74e3b2",
   "metadata": {},
   "outputs": [],
   "source": [
    "from keras.preprocessing.image import ImageDataGenerator\n",
    "\n",
    "aug = ImageDataGenerator(\n",
    "                rotation_range = 90,\n",
    "                horizontal_flip = True,\n",
    "                vertical_flip = True,\n",
    "                validation_split = 0.20)\n",
    "\n",
    "aug_train_o = aug.flow(mammo_o_4d, label, batch_size = 30, subset = 'training')\n",
    "aug_val_o = aug.flow(mammo_o_4d, label, batch_size = 30, subset = 'validation')"
   ]
  },
  {
   "cell_type": "code",
   "execution_count": null,
   "id": "c88fbd47",
   "metadata": {},
   "outputs": [],
   "source": [
    "batch_size = 42\n",
    "train_o_aug = model_o_aug.fit(aug_train_o, \n",
    "                     batch_size = batch_size,\n",
    "                     epochs = 260, \n",
    "                     verbose = 1,\n",
    "                     validation_data = aug_val_o,\n",
    "                     callbacks = [reduce_on_plateau])    "
   ]
  },
  {
   "cell_type": "code",
   "execution_count": null,
   "id": "bcc559e8",
   "metadata": {},
   "outputs": [],
   "source": [
    "acc = train_o_aug.history['accuracy']\n",
    "val_acc = train_o_aug.history['val_accuracy']\n",
    "loss = train_o_aug.history['loss']\n",
    "val_loss = train_o_aug.history['val_loss']\n",
    "\n",
    "epochs_range = range(1, len(acc)+1)\n",
    "\n",
    "#Train and validation accuracy \n",
    "plt.figure(figsize=(15, 15))\n",
    "plt.subplot(2, 2, 1)\n",
    "plt.plot(epochs_range, acc, label='Training Accuracy')\n",
    "plt.plot(epochs_range, val_acc, label='Validation Accuracy')\n",
    "plt.legend(loc='lower right')\n",
    "plt.title('Training and Validation Accuracy')\n",
    "\n",
    "#Train and validation loss \n",
    "plt.subplot(2, 2, 2)\n",
    "plt.plot(epochs_range, loss, label='Training Loss')\n",
    "plt.plot(epochs_range, val_loss, label='Validation Loss')\n",
    "plt.legend(loc='upper right')\n",
    "plt.title('Training and Validation Loss')\n",
    "plt.show()"
   ]
  },
  {
   "cell_type": "code",
   "execution_count": null,
   "id": "99faa6f6",
   "metadata": {},
   "outputs": [],
   "source": [
    "acc_o = []\n",
    "acc_o_aug = []\n",
    "for i in range(10):\n",
    "    \n",
    "    _, val_acc = model_o.evaluate(X_val_o, Y_val_o, verbose=0)\n",
    "    print('Validation accuracy: %.3f' % (val_acc))\n",
    "    acc_o.append(val_acc)\n",
    "\n",
    "    _, val_acc = model_o_aug.evaluate(aug_val_o, verbose=0)\n",
    "    print('Validation accuracy: %.3f' % (val_acc))\n",
    "    acc_o_aug.append(val_acc)"
   ]
  },
  {
   "cell_type": "code",
   "execution_count": null,
   "id": "dce6d88e",
   "metadata": {},
   "outputs": [],
   "source": [
    "media_o = np.mean(acc_o)\n",
    "std_o = np.std(acc_o)\n",
    "print(media_o)\n",
    "print(std_o)"
   ]
  },
  {
   "cell_type": "code",
   "execution_count": null,
   "id": "37433221",
   "metadata": {},
   "outputs": [],
   "source": [
    "media_o_aug = np.mean(acc_o_aug)\n",
    "std_o_aug = np.std(acc_o_aug)\n",
    "print(media_o_aug)\n",
    "print(std_o_aug)"
   ]
  },
  {
   "cell_type": "code",
   "execution_count": null,
   "id": "aae63c15",
   "metadata": {},
   "outputs": [],
   "source": [
    "mammo_o_t, mammo_f_t, label_t = [], [], []\n",
    "data_folder_t = \"../test_dataset/\"\n",
    "os.chdir(data_folder_t)\n",
    "l_t = os.listdir()"
   ]
  },
  {
   "cell_type": "code",
   "execution_count": null,
   "id": "604f4aa9",
   "metadata": {},
   "outputs": [],
   "source": [
    "def create_dataset_t(lista, o_img, f_img, labels):\n",
    "    #Function calling the Matlab file in order to filter the images.\n",
    "    for element in lista:\n",
    "        if \"_1_resized.pgm\" in element:\n",
    "            mo, mf = eng.dataset_filtered(eng.char(os.path.join(data_folder, element)), nargout = 2)\n",
    "            o_img.append(mo)\n",
    "            f_img.append(mf)\n",
    "            labels.append(1)\n",
    "        elif \"_2_resized.pgm\" in element:\n",
    "            mo, mf = eng.dataset_filtered(eng.char(os.path.join(data_folder, element)), nargout = 2)\n",
    "            o_img.append(mo)\n",
    "            f_img.append(mf)\n",
    "            labels.append(0)"
   ]
  },
  {
   "cell_type": "code",
   "execution_count": null,
   "id": "336c9b86",
   "metadata": {},
   "outputs": [],
   "source": [
    "os.chdir(\"./\")\n",
    "threads = []\n",
    "chunk = 6\n",
    "\n",
    "for i in range(5):\n",
    "    t = thr.Thread(target = create_dataset, args = (l_t[i*chunk : (i+1)*chunk], mammo_o_t, mammo_f_t, label_t))\n",
    "    threads.append(t)\n",
    "    t.start()\n",
    "    \n",
    "for j in threads:\n",
    "    j.join()"
   ]
  },
  {
   "cell_type": "code",
   "execution_count": null,
   "id": "b2985ecb",
   "metadata": {},
   "outputs": [],
   "source": [
    "eng.quit()"
   ]
  },
  {
   "cell_type": "code",
   "execution_count": null,
   "id": "25d2cc21",
   "metadata": {},
   "outputs": [],
   "source": [
    "mammo_o_t = np.asarray(mammo_o_T, dtype = 'float32')/255.\n",
    "mammo_f_t = np.asarray(mammo_f_t, dtype = 'float32')/255.\n",
    "label_t = np.asarray(label_T)\n",
    "mammo_o_4d_t = np.reshape(mammo_o_t, (30, 125, 125, 1))\n",
    "print(mammo_o_4d_t.shape)\n",
    "mammo_f_4d_t = np.reshape(mammo_f_t, (30, 64, 64, 1))\n",
    "print(mammo_f_4d_t.shape)"
   ]
  },
  {
   "cell_type": "code",
   "execution_count": null,
   "id": "2fe48f5a",
   "metadata": {},
   "outputs": [],
   "source": [
    "if media_o > media_o_aug:\n",
    "    model_test = model_o()\n",
    "else:\n",
    "    model_test = model_o_aug()"
   ]
  },
  {
   "cell_type": "code",
   "execution_count": null,
   "id": "af64fa33",
   "metadata": {},
   "outputs": [],
   "source": [
    "test_loss, test_acc = model.evaluate(mammo_o_4d_t, label_t)\n",
    "preds_test = model_test.predict(mammo_o_4d_t, verbose=1)\n",
    "fpr, tpr, _ = roc_curve(label_t, preds_test)\n",
    "roc_auc = auc(fpr, tpr)\n",
    "\n",
    "print('\\n Test accuracy = %.3f'% (test_acc))\n",
    "print('\\n AUC = %.3f'% (roc_auc))"
   ]
  }
 ],
 "metadata": {
  "kernelspec": {
   "display_name": "Python 3 (ipykernel)",
   "language": "python",
   "name": "python3"
  },
  "language_info": {
   "codemirror_mode": {
    "name": "ipython",
    "version": 3
   },
   "file_extension": ".py",
   "mimetype": "text/x-python",
   "name": "python",
   "nbconvert_exporter": "python",
   "pygments_lexer": "ipython3",
   "version": "3.10.9"
  }
 },
 "nbformat": 4,
 "nbformat_minor": 5
}
