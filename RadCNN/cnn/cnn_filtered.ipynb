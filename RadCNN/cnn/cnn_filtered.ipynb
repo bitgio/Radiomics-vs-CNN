{
 "cells": [
  {
   "cell_type": "code",
   "execution_count": 1,
   "id": "360bd662",
   "metadata": {},
   "outputs": [],
   "source": [
    "import os\n",
    "import numpy as np\n",
    "import threading as thr\n",
    "import matplotlib.pyplot as plt\n",
    "from sklearn.model_selection import train_test_split\n",
    "from sklearn.metrics import roc_curve, auc\n",
    "from keras.models import Sequential\n",
    "from keras.layers import Conv2D, BatchNormalization, MaxPool2D, Dense, Flatten, InputLayer, Activation, Dropout\n",
    "from keras.callbacks import ReduceLROnPlateau\n",
    "from keras.optimizers import SGD"
   ]
  },
  {
   "cell_type": "code",
   "execution_count": 2,
   "id": "13c9847a",
   "metadata": {},
   "outputs": [],
   "source": [
    "import matlab.engine\n",
    "eng = matlab.engine.start_matlab()"
   ]
  },
  {
   "cell_type": "code",
   "execution_count": 3,
   "id": "c4e6805d",
   "metadata": {},
   "outputs": [],
   "source": [
    "mammo_o = []\n",
    "mammo_f = []\n",
    "label = []\n",
    "project_folder = \"../dataset/\"\n",
    "os.chdir(project_folder)\n",
    "l = os.listdir()"
   ]
  },
  {
   "cell_type": "code",
   "execution_count": 4,
   "id": "c20f6a14",
   "metadata": {},
   "outputs": [],
   "source": [
    "def create_dataset(ls, o_img, f_img, lbl):\n",
    "    for l in ls:\n",
    "        if \"_1_resized.pgm\" in l:\n",
    "            mo, mf = eng.dataset_filtered(eng.char(os.path.join(project_folder,l)), nargout = 2)\n",
    "            o_img.append(mo)\n",
    "            f_img.append(mf)\n",
    "            lbl.append(1)\n",
    "        elif \"_2_resized.pgm\" in l:\n",
    "            mo, mf = eng.dataset_filtered(eng.char(os.path.join(project_folder,l)), nargout = 2)\n",
    "            o_img.append(mo)\n",
    "            f_img.append(mf)\n",
    "            lbl.append(0)"
   ]
  },
  {
   "cell_type": "code",
   "execution_count": null,
   "id": "bf4136c2",
   "metadata": {},
   "outputs": [],
   "source": [
    "os.chdir(\"./\")\n",
    "threads = []\n",
    "chunk = 6\n",
    "for i in range(49):\n",
    "    t = thr.Thread(target = create_dataset, args = (l[i*chunk : (i+1)*chunk], mammo_o, mammo_f, label))\n",
    "    threads.append(t)\n",
    "    t.start()\n",
    "\n",
    "for i in threads:\n",
    "    i.join()"
   ]
  },
  {
   "cell_type": "code",
   "execution_count": null,
   "id": "8ac2c080",
   "metadata": {},
   "outputs": [],
   "source": [
    "mammo_o = np.asarray(mammo_o, dtype = 'float32')/255.\n",
    "mammo_f = np.asarray(mammo_f, dtype = 'float32')/255.\n",
    "label = np.asarray(label)\n",
    "mammo_o_4d = np.reshape(mammo_o, (147, 125, 125, 1))\n",
    "print(mammo_o_4d.shape)\n",
    "mammo_f_4d = np.reshape(mammo_f, (147, 64, 64, 1))\n",
    "print(mammo_f_4d.shape)"
   ]
  },
  {
   "cell_type": "code",
   "execution_count": null,
   "id": "ba5142cb",
   "metadata": {},
   "outputs": [],
   "source": [
    "def cnn_f(shape=(64, 64, 1)):\n",
    "    model = Sequential([\n",
    "        \n",
    "        Conv2D(10, (3,3), padding = 'same', input_shape = shape),\n",
    "        BatchNormalization(),\n",
    "        Activation('relu'),\n",
    "    \n",
    "        MaxPool2D((4,4), strides = 2),\n",
    "        #Dropout(0.1),\n",
    "        \n",
    "        \n",
    "        Conv2D(16, (3,3), padding = 'same'),\n",
    "        BatchNormalization(),\n",
    "        Activation('relu'),\n",
    "        \n",
    "        MaxPool2D((4,4), strides = 2),\n",
    "        #Dropout(0.1),\n",
    "        \n",
    "        \n",
    "        Conv2D(29, (3,3), padding = 'same'),\n",
    "        BatchNormalization(),\n",
    "        Activation('relu'),\n",
    "        \n",
    "        MaxPool2D((4,4), strides = 2),\n",
    "        #Dropout(0.1),\n",
    "        \n",
    "        Flatten(),\n",
    "        \n",
    "        Dense(10, activation = 'relu'),\n",
    "        #Dropout(0.2),\n",
    "        Dense(1, activation = 'sigmoid')        \n",
    "        \n",
    "    ])\n",
    "    \n",
    "    return model"
   ]
  },
  {
   "cell_type": "code",
   "execution_count": null,
   "id": "839debd5",
   "metadata": {},
   "outputs": [],
   "source": [
    "model_f = cnn_f()\n",
    "model_f.summary()"
   ]
  },
  {
   "cell_type": "code",
   "execution_count": null,
   "id": "678f72d3",
   "metadata": {},
   "outputs": [],
   "source": [
    "learning_rate = 0.001\n",
    "model_f.compile(optimizer = SGD(learning_rate, momentum = 0.9), loss = 'binary_crossentropy', metrics = ['accuracy'])"
   ]
  },
  {
   "cell_type": "code",
   "execution_count": null,
   "id": "47d78e0a",
   "metadata": {},
   "outputs": [],
   "source": [
    "reduce_on_plateau = ReduceLROnPlateau(\n",
    "    monitor=\"val_loss\",\n",
    "    factor=0.1,\n",
    "    patience=10,\n",
    "    verbose=0,\n",
    "    mode=\"auto\",\n",
    "    min_delta=0.0001,\n",
    "    cooldown=0,\n",
    "    min_lr=0)"
   ]
  },
  {
   "cell_type": "code",
   "execution_count": null,
   "id": "72459382",
   "metadata": {},
   "outputs": [],
   "source": [
    "X_train_f, X_val_f, Y_train_f, Y_val_f = train_test_split(mammo_f_4d, label, test_size = 0.2, random_state = 44)\n",
    "batch_size = 21\n",
    "train_f = model_f.fit(X_train_f, Y_train_f,\n",
    "                            batch_size = batch_size,\n",
    "                            epochs = 200,\n",
    "                            verbose = 1,\n",
    "                            validation_data = (X_val_f, Y_val_f),\n",
    "                            callbacks = [reduce_on_plateau])"
   ]
  },
  {
   "cell_type": "code",
   "execution_count": null,
   "id": "d78650e5",
   "metadata": {},
   "outputs": [],
   "source": [
    "acc = train_f.history['accuracy']\n",
    "val_acc = train_f.history['val_accuracy']\n",
    "loss = train_f.history['loss']\n",
    "val_loss = train_f.history['val_loss']\n",
    "    \n",
    "epochs_range = range(1, len(acc)+1)\n",
    "    #Train and validation accuracy \n",
    "plt.figure(figsize=(15, 15))\n",
    "plt.subplot(2, 2, 1)\n",
    "plt.plot(epochs_range, acc, label='Training Accuracy')\n",
    "plt.plot(epochs_range, val_acc, label='Validation Accuracy')\n",
    "plt.legend(loc='lower right')\n",
    "plt.title('Training and Validation Accuracy')\n",
    "    #Train and validation loss \n",
    "plt.subplot(2, 2, 2)\n",
    "plt.plot(epochs_range, loss, label='Training Loss')\n",
    "plt.plot(epochs_range, val_loss, label='Validation Loss')\n",
    "plt.legend(loc='upper right')\n",
    "plt.title('Training and Validation Loss')\n",
    "plt.show()"
   ]
  },
  {
   "cell_type": "code",
   "execution_count": null,
   "id": "7d2b6da1",
   "metadata": {},
   "outputs": [],
   "source": [
    "def cnn_f_aug(shape=(64, 64, 1)):\n",
    "    model = Sequential([\n",
    "        \n",
    "        Conv2D(9, (3,3), padding = 'same', input_shape = shape),\n",
    "        BatchNormalization(),\n",
    "        Activation('relu'),\n",
    "    \n",
    "        MaxPool2D((4,4), strides = 2),\n",
    "        #Dropout(0.1),\n",
    "        \n",
    "        \n",
    "        Conv2D(22, (3,3), padding = 'same'),\n",
    "        BatchNormalization(),\n",
    "        Activation('relu'),\n",
    "        \n",
    "        MaxPool2D((4,4), strides = 2),\n",
    "        #Dropout(0.1),\n",
    "        \n",
    "        \n",
    "        Conv2D(33, (3,3), padding = 'same'),\n",
    "        BatchNormalization(),\n",
    "        Activation('relu'),\n",
    "        \n",
    "        MaxPool2D((4,4), strides = 2),\n",
    "        #Dropout(0.1),\n",
    "        \n",
    "        Flatten(),\n",
    "        \n",
    "        Dense(10, activation = 'relu'),\n",
    "        #Dropout(0.2),\n",
    "        Dense(1, activation = 'sigmoid')        \n",
    "        \n",
    "    ])\n",
    "    \n",
    "    return model"
   ]
  },
  {
   "cell_type": "code",
   "execution_count": null,
   "id": "ec3177a4",
   "metadata": {},
   "outputs": [],
   "source": [
    "model_f_aug = cnn_f_aug()\n",
    "model_f_aug.summary()"
   ]
  },
  {
   "cell_type": "code",
   "execution_count": null,
   "id": "4bd432ee",
   "metadata": {},
   "outputs": [],
   "source": [
    "learning_rate = 0.001\n",
    "model_f_aug.compile(optimizer = SGD(learning_rate, momentum = 0.9), loss = 'binary_crossentropy', metrics = ['accuracy'])"
   ]
  },
  {
   "cell_type": "code",
   "execution_count": null,
   "id": "eb2c9bda",
   "metadata": {},
   "outputs": [],
   "source": [
    "from keras.preprocessing.image import ImageDataGenerator\n",
    "\n",
    "aug = ImageDataGenerator(\n",
    "                rotation_range = 90,\n",
    "                horizontal_flip = True,\n",
    "                vertical_flip = True,\n",
    "                validation_split = 0.20)\n",
    "\n",
    "aug_train_f = aug.flow(mammo_f_4d, label, batch_size = 30, subset = 'training')\n",
    "aug_val_f = aug.flow(mammo_f_4d, label, batch_size = 30, subset = 'validation')"
   ]
  },
  {
   "cell_type": "code",
   "execution_count": null,
   "id": "bb39c6dd",
   "metadata": {
    "scrolled": false
   },
   "outputs": [],
   "source": [
    "batch_size = 42\n",
    "train_f_aug = model_f_aug.fit(aug_train_f,\n",
    "                            batch_size = batch_size,\n",
    "                            epochs = 200,\n",
    "                            verbose = 1,\n",
    "                            validation_data = aug_val_f,\n",
    "                            callbacks = [reduce_on_plateau])"
   ]
  },
  {
   "cell_type": "code",
   "execution_count": null,
   "id": "ebbdde8e",
   "metadata": {},
   "outputs": [],
   "source": [
    "acc = train_f_aug.history['accuracy']\n",
    "val_acc = train_f_aug.history['val_accuracy']\n",
    "loss = train_f_aug.history['loss']\n",
    "val_loss = train_f_aug.history['val_loss']\n",
    "    \n",
    "epochs_range = range(1, len(acc)+1)\n",
    "    #Train and validation accuracy \n",
    "plt.figure(figsize=(15, 15))\n",
    "plt.subplot(2, 2, 1)\n",
    "plt.plot(epochs_range, acc, label='Training Accuracy')\n",
    "plt.plot(epochs_range, val_acc, label='Validation Accuracy')\n",
    "plt.legend(loc='lower right')\n",
    "plt.title('Training and Validation Accuracy')\n",
    "    #Train and validation loss \n",
    "plt.subplot(2, 2, 2)\n",
    "plt.plot(epochs_range, loss, label='Training Loss')\n",
    "plt.plot(epochs_range, val_loss, label='Validation Loss')\n",
    "plt.legend(loc='upper right')\n",
    "plt.title('Training and Validation Loss')\n",
    "plt.show()"
   ]
  },
  {
   "cell_type": "code",
   "execution_count": null,
   "id": "231476e6",
   "metadata": {},
   "outputs": [],
   "source": [
    "acc_f = []\n",
    "acc_f_aug = []\n",
    "for i in range(10):\n",
    "    \n",
    "    _, val_acc = model_f.evaluate(X_val_f, Y_val_f, verbose=0)\n",
    "    print('Validation accuracy: %.3f' % (val_acc))\n",
    "    acc_f.append(val_acc)\n",
    "\n",
    "    _, val_acc = model_f_aug.evaluate(aug_val_f, verbose=0)\n",
    "    print('Validation accuracy: %.3f' % (val_acc))\n",
    "    acc_f_aug.append(val_acc)"
   ]
  },
  {
   "cell_type": "code",
   "execution_count": null,
   "id": "6981d1c5",
   "metadata": {},
   "outputs": [],
   "source": [
    "media_f = np.mean(acc_f)\n",
    "std_f = np.std(acc_f)\n",
    "print(media_f)\n",
    "print(std_f)"
   ]
  },
  {
   "cell_type": "code",
   "execution_count": null,
   "id": "40661d4d",
   "metadata": {},
   "outputs": [],
   "source": [
    "media_f_aug = np.mean(acc_f_aug)\n",
    "std_f_aug = np.std(acc_f_aug)\n",
    "print(media_f_aug)\n",
    "print(std_f_aug)"
   ]
  },
  {
   "cell_type": "code",
   "execution_count": null,
   "id": "e938db15",
   "metadata": {},
   "outputs": [],
   "source": [
    "mammo_o_t, mammo_f_t, label_t = [], [], []\n",
    "data_folder_t = \"../test_dataset/\"\n",
    "os.chdir(data_folder_t)\n",
    "l_t = os.listdir()"
   ]
  },
  {
   "cell_type": "code",
   "execution_count": null,
   "id": "215445f5",
   "metadata": {},
   "outputs": [],
   "source": [
    "def create_dataset_t(lista, o_img, f_img, labels):\n",
    "    #Function calling the Matlab file in order to filter the images.\n",
    "    for element in lista:\n",
    "        if \"_1_resized.pgm\" in element:\n",
    "            mo, mf = eng.dataset_filtered(eng.char(os.path.join(data_folder, element)), nargout = 2)\n",
    "            o_img.append(mo)\n",
    "            f_img.append(mf)\n",
    "            labels.append(1)\n",
    "        elif \"_2_resized.pgm\" in element:\n",
    "            mo, mf = eng.dataset_filtered(eng.char(os.path.join(data_folder, element)), nargout = 2)\n",
    "            o_img.append(mo)\n",
    "            f_img.append(mf)\n",
    "            labels.append(0)"
   ]
  },
  {
   "cell_type": "code",
   "execution_count": null,
   "id": "1fe0fb4e",
   "metadata": {},
   "outputs": [],
   "source": [
    "os.chdir(\"./\")\n",
    "threads = []\n",
    "chunk = 6\n",
    "\n",
    "for i in range(5):\n",
    "    t = thr.Thread(target = create_dataset, args = (l_t[i*chunk : (i+1)*chunk], mammo_o_t, mammo_f_t, label_t))\n",
    "    threads.append(t)\n",
    "    t.start()\n",
    "    \n",
    "for j in threads:\n",
    "    j.join()"
   ]
  },
  {
   "cell_type": "code",
   "execution_count": null,
   "id": "336a18c2",
   "metadata": {},
   "outputs": [],
   "source": [
    "eng.quit()"
   ]
  },
  {
   "cell_type": "code",
   "execution_count": null,
   "id": "222cfcbe",
   "metadata": {},
   "outputs": [],
   "source": [
    "mammo_o_t = np.asarray(mammo_o_t, dtype = 'float32')/255.\n",
    "mammo_f_t = np.asarray(mammo_f_t, dtype = 'float32')/255.\n",
    "label_t = np.asarray(label_t)\n",
    "mammo_o_4d_t = np.reshape(mammo_o_t, (30, 125, 125, 1))\n",
    "print(mammo_o_4d_t.shape)\n",
    "mammo_f_4d_t = np.reshape(mammo_f_t, (30, 64, 64, 1))\n",
    "print(mammo_f_4d_t.shape)"
   ]
  },
  {
   "cell_type": "code",
   "execution_count": null,
   "id": "8fad3d72",
   "metadata": {},
   "outputs": [],
   "source": [
    "if media_f > media_f_aug:\n",
    "    model_test = model_f()\n",
    "else:\n",
    "    model_test = model_f_aug()"
   ]
  },
  {
   "cell_type": "code",
   "execution_count": null,
   "id": "20344cb2",
   "metadata": {},
   "outputs": [],
   "source": [
    "test_loss, test_acc = model.evaluate(mammo_f_4d_t, label_t)\n",
    "preds_test = model_test.predict(mammo_f_4d_t, verbose=1)\n",
    "fpr, tpr, _ = roc_curve(label_t, preds_test)\n",
    "roc_auc = auc(fpr, tpr)\n",
    "\n",
    "print('\\n Test accuracy = %.3f'% (test_acc))\n",
    "print('\\n AUC = %.3f'% (roc_auc))"
   ]
  }
 ],
 "metadata": {
  "kernelspec": {
   "display_name": "Python 3 (ipykernel)",
   "language": "python",
   "name": "python3"
  },
  "language_info": {
   "codemirror_mode": {
    "name": "ipython",
    "version": 3
   },
   "file_extension": ".py",
   "mimetype": "text/x-python",
   "name": "python",
   "nbconvert_exporter": "python",
   "pygments_lexer": "ipython3",
   "version": "3.10.9"
  }
 },
 "nbformat": 4,
 "nbformat_minor": 5
}
